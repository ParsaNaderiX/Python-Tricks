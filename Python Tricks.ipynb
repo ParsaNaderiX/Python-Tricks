{
 "cells": [
  {
   "cell_type": "markdown",
   "id": "d14dc778",
   "metadata": {},
   "source": [
    "# daily Python tricks"
   ]
  },
  {
   "cell_type": "markdown",
   "id": "38cd8f41",
   "metadata": {},
   "source": [
    "### Day 1"
   ]
  },
  {
   "cell_type": "markdown",
   "id": "b4c53fb5",
   "metadata": {},
   "source": [
    "##### How to merge two dictionaries in Python 3.5+"
   ]
  },
  {
   "cell_type": "code",
   "execution_count": 38,
   "id": "ea0bfb4a",
   "metadata": {},
   "outputs": [],
   "source": [
    "x = {'a': 1, 'b': 2}\n",
    "y = {'b': 3, 'c': 4}"
   ]
  },
  {
   "cell_type": "code",
   "execution_count": 39,
   "id": "6aedaabc",
   "metadata": {},
   "outputs": [],
   "source": [
    "z = {**x, **y}"
   ]
  },
  {
   "cell_type": "code",
   "execution_count": 40,
   "id": "847c43be",
   "metadata": {},
   "outputs": [
    {
     "data": {
      "text/plain": [
       "{'a': 1, 'b': 3, 'c': 4}"
      ]
     },
     "execution_count": 40,
     "metadata": {},
     "output_type": "execute_result"
    }
   ],
   "source": [
    "z"
   ]
  },
  {
   "cell_type": "code",
   "execution_count": 41,
   "id": "0a3165e3",
   "metadata": {},
   "outputs": [],
   "source": [
    "z = {**y, **x}"
   ]
  },
  {
   "cell_type": "code",
   "execution_count": 42,
   "id": "f0971ac2",
   "metadata": {},
   "outputs": [
    {
     "data": {
      "text/plain": [
       "{'b': 2, 'c': 4, 'a': 1}"
      ]
     },
     "execution_count": 42,
     "metadata": {},
     "output_type": "execute_result"
    }
   ],
   "source": [
    "z"
   ]
  },
  {
   "cell_type": "markdown",
   "id": "5a878feb",
   "metadata": {},
   "source": [
    "In above examples, Python merges dictionary keys in the order listed in the expression, \"overwriting duplicates from left to right\".\n",
    "\n",
    "pay attention about different values of 'b' (key) in two different merged dictionaries ."
   ]
  },
  {
   "cell_type": "markdown",
   "id": "84efbeec",
   "metadata": {},
   "source": [
    "### Day 2"
   ]
  },
  {
   "cell_type": "markdown",
   "id": "7741fc7b",
   "metadata": {},
   "source": [
    "##### Different ways to test multiple flags at once in Python"
   ]
  },
  {
   "cell_type": "code",
   "execution_count": 43,
   "id": "e0c590df",
   "metadata": {},
   "outputs": [],
   "source": [
    "x, y, z = 0, 1, 0"
   ]
  },
  {
   "cell_type": "code",
   "execution_count": 44,
   "id": "6f1188ac",
   "metadata": {},
   "outputs": [
    {
     "name": "stdout",
     "output_type": "stream",
     "text": [
      "passed\n"
     ]
    }
   ],
   "source": [
    "if x == 1 or y == 1 or z == 1:\n",
    "    print('passed')"
   ]
  },
  {
   "cell_type": "code",
   "execution_count": 45,
   "id": "43c64c04",
   "metadata": {},
   "outputs": [
    {
     "name": "stdout",
     "output_type": "stream",
     "text": [
      "passed\n"
     ]
    }
   ],
   "source": [
    "if 1 in (x, y, z):\n",
    "    print('passed')"
   ]
  },
  {
   "cell_type": "markdown",
   "id": "b2e1ecf8",
   "metadata": {},
   "source": [
    "these only test for truthiness :"
   ]
  },
  {
   "cell_type": "code",
   "execution_count": 46,
   "id": "4b4ceb37",
   "metadata": {},
   "outputs": [
    {
     "name": "stdout",
     "output_type": "stream",
     "text": [
      "passed\n"
     ]
    }
   ],
   "source": [
    "if x or y or z:\n",
    "    print('passed')"
   ]
  },
  {
   "cell_type": "code",
   "execution_count": 47,
   "id": "a926ba8b",
   "metadata": {},
   "outputs": [
    {
     "name": "stdout",
     "output_type": "stream",
     "text": [
      "passed\n"
     ]
    }
   ],
   "source": [
    "if any((x, y, z)):\n",
    "    print('passed')"
   ]
  }
 ],
 "metadata": {
  "kernelspec": {
   "display_name": "Python 3 (ipykernel)",
   "language": "python",
   "name": "python3"
  },
  "language_info": {
   "codemirror_mode": {
    "name": "ipython",
    "version": 3
   },
   "file_extension": ".py",
   "mimetype": "text/x-python",
   "name": "python",
   "nbconvert_exporter": "python",
   "pygments_lexer": "ipython3",
   "version": "3.11.3"
  }
 },
 "nbformat": 4,
 "nbformat_minor": 5
}
